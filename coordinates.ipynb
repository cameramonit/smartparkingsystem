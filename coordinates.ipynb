{
 "cells": [
  {
   "cell_type": "code",
   "execution_count": 1,
   "metadata": {},
   "outputs": [
    {
     "name": "stderr",
     "output_type": "stream",
     "text": [
      "qt.qpa.plugin: Could not find the Qt platform plugin \"wayland\" in \"/home/neeleshsharma/.local/lib/python3.10/site-packages/cv2/qt/plugins\"\n"
     ]
    },
    {
     "name": "stdout",
     "output_type": "stream",
     "text": [
      "[119, 101, 270, 90, 261, 172, 100, 179]\n",
      "[417, 85, 423, 168, 587, 167, 568, 82]\n",
      "[89, 214, 257, 208, 250, 286, 66, 290]\n",
      "[427, 202, 592, 195, 612, 276, 435, 282]\n",
      "[56, 335, 249, 330, 238, 437, 28, 438]\n",
      "[437, 322, 621, 310, 635, 405, 444, 422]\n"
     ]
    }
   ],
   "source": [
    "import cv2\n",
    "import numpy as np\n",
    "\n",
    "img = cv2.imread(\"images/test.jpg\")\n",
    "\n",
    "coordinates = []\n",
    "counter = 0\n",
    "\n",
    "def draw_circle(event, x, y, flags, param):\n",
    "    global coordinates\n",
    "    global counter\n",
    "    if event == cv2.EVENT_LBUTTONDOWN:\n",
    "        cv2.circle(img, (x, y), 2, (0, 0, 255), -1)\n",
    "        # print(\"Mouse clicked at x=\", x, \" y=\", y)\n",
    "        coordinates.append(x)\n",
    "        coordinates.append(y)\n",
    "        # print(counter)\n",
    "        if (counter == 3):\n",
    "            print(coordinates)\n",
    "            counter = 0\n",
    "            coordinates = []\n",
    "        else:\n",
    "            counter = counter + 1\n",
    "\n",
    "cv2.namedWindow(\"image\")\n",
    "cv2.setMouseCallback(\"image\", draw_circle)\n",
    "\n",
    "while True:\n",
    "    cv2.imshow(\"image\", img)\n",
    "    if cv2.waitKey(1) & 0xFF == ord(\"q\"):\n",
    "        break\n",
    "\n",
    "cv2.destroyAllWindows()"
   ]
  }
 ],
 "metadata": {
  "kernelspec": {
   "display_name": "Python 3",
   "language": "python",
   "name": "python3"
  },
  "language_info": {
   "codemirror_mode": {
    "name": "ipython",
    "version": 3
   },
   "file_extension": ".py",
   "mimetype": "text/x-python",
   "name": "python",
   "nbconvert_exporter": "python",
   "pygments_lexer": "ipython3",
   "version": "3.10.6"
  },
  "orig_nbformat": 4
 },
 "nbformat": 4,
 "nbformat_minor": 2
}
