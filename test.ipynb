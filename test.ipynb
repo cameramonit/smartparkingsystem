{
 "cells": [
  {
   "cell_type": "code",
   "execution_count": 1,
   "metadata": {},
   "outputs": [],
   "source": [
    "def showall():\n",
    "\n",
    "    # import scan\n",
    "    # import checkspace\n",
    "\n",
    "    # scan.scan()\n",
    "    \n",
    "    empty_image = 'images/test.jpg'\n",
    "    current_image = 'images/target.jpg'\n",
    "\n",
    "    coordinates = [[89, 319, 91, 102, 206, 88, 227, 297],\n",
    "[230, 297, 213, 86, 360, 67, 414, 272],\n",
    "[418, 271, 365, 66, 493, 52, 570, 249]]\n",
    "\n",
    "    coordinates_flag = [0,0,0,0,0,0]\n",
    "    available = []\n",
    "\n",
    "    for index, item in enumerate(coordinates):\n",
    "\n",
    "        empty = checkspace.avg_dark_pixels(empty_image, item)\n",
    "        current = checkspace.avg_dark_pixels(current_image, item)\n",
    "\n",
    "        if abs(current - empty) < 10:\n",
    "            coordinates_flag[index] = 0     # if empty\n",
    "            available.append(index+1)\n",
    "        else:\n",
    "            coordinates_flag[index] = 1     # if occupied\n",
    "\n",
    "        print()\n",
    "        print(\"Slot: \", index+1)\n",
    "        print(\"Empty: \", empty)\n",
    "        print(\"Current: \", current)\n",
    "        print()\n",
    "\n",
    "    import random\n",
    "\n",
    "    if(len(available)>0):\n",
    "        print(\"Park at slot: \", random.choice(available))\n",
    "    else:\n",
    "        print(\"No space.\")"
   ]
  },
  {
   "cell_type": "code",
   "execution_count": 10,
   "metadata": {},
   "outputs": [
    {
     "name": "stdout",
     "output_type": "stream",
     "text": [
      "\n",
      "Slot:  1\n",
      "Empty:  0.0\n",
      "Current:  1649.0\n",
      "\n",
      "\n",
      "Slot:  2\n",
      "Empty:  0.0\n",
      "Current:  2373.5\n",
      "\n",
      "\n",
      "Slot:  3\n",
      "Empty:  0.0\n",
      "Current:  2343.25\n",
      "\n",
      "No space.\n"
     ]
    }
   ],
   "source": [
    "showall()"
   ]
  },
  {
   "cell_type": "code",
   "execution_count": null,
   "metadata": {},
   "outputs": [],
   "source": []
  }
 ],
 "metadata": {
  "kernelspec": {
   "display_name": "Python 3",
   "language": "python",
   "name": "python3"
  },
  "language_info": {
   "codemirror_mode": {
    "name": "ipython",
    "version": 3
   },
   "file_extension": ".py",
   "mimetype": "text/x-python",
   "name": "python",
   "nbconvert_exporter": "python",
   "pygments_lexer": "ipython3",
   "version": "3.10.6"
  },
  "orig_nbformat": 4
 },
 "nbformat": 4,
 "nbformat_minor": 2
}
